{
 "cells": [
  {
   "cell_type": "code",
   "execution_count": null,
   "metadata": {},
   "outputs": [],
   "source": [
    "import string\n",
    "import nltk\n",
    "import torch\n",
    "from torch import nn\n",
    "import torch.optim as optim\n",
    "import os\n",
    "import numpy as np\n",
    "import matplotlib.pyplot as plt\n",
    "from IPython.display import clear_output\n",
    "import torch.nn.functional as F\n",
    "import copy\n",
    "from model import Model"
   ]
  },
  {
   "cell_type": "code",
   "execution_count": 2,
   "metadata": {},
   "outputs": [
    {
     "name": "stdout",
     "output_type": "stream",
     "text": [
      "Файл «sonnets.txt» уже существует — не загружается.\r\n",
      "\r\n"
     ]
    }
   ],
   "source": [
    "try:\n",
    "    with open('../../datasets/Shakespeare_sonnets/sonnets.txt', 'r') as iofile:\n",
    "        text = iofile.readlines()\n",
    "except FileNotFoundError:\n",
    "    !wget https://raw.githubusercontent.com/neychev/made_nlp_course/master/datasets/Shakespeare_sonnets/sonnets.txt -nc\n",
    "    with open('sonnets.txt', 'r') as iofile:\n",
    "        text = iofile.readlines()"
   ]
  },
  {
   "cell_type": "code",
   "execution_count": 4,
   "metadata": {},
   "outputs": [],
   "source": [
    "TEXT_START = 45\n",
    "TEXT_END = -368\n",
    "text = text[TEXT_START : TEXT_END]\n",
    "text = [x.lower() for x in text]\n",
    "\n",
    "text_tokens = []\n",
    "for line in text:\n",
    "    text_tokens += nltk.word_tokenize(line) \n",
    "    text_tokens += [\"\\n\"] \n"
   ]
  },
  {
   "cell_type": "code",
   "execution_count": 8,
   "metadata": {},
   "outputs": [],
   "source": [
    "unique_tokens = np.unique(np.array(text_tokens))\n",
    "tokenised_text = [np.where(unique_tokens == x)[0] for x in text_tokens]"
   ]
  },
  {
   "cell_type": "code",
   "execution_count": 10,
   "metadata": {},
   "outputs": [],
   "source": [
    "inp = tokenised_text[:-1]\n",
    "target = copy.deepcopy(tokenised_text)[1:]"
   ]
  },
  {
   "cell_type": "code",
   "execution_count": 11,
   "metadata": {},
   "outputs": [],
   "source": [
    "LSTM_SIZE = 128\n",
    "EMBEDDING_DIM = 128\n",
    "NUM_LAYERS = 3\n",
    "BATCH_SIZE = 256\n",
    "LR = 0.01\n",
    "N_EPOCHS = 100\n",
    "MAX_LENGTH = 100\n",
    "DICT_SIZE = len(unique_tokens)"
   ]
  },
  {
   "cell_type": "code",
   "execution_count": 12,
   "metadata": {},
   "outputs": [],
   "source": [
    "model = Model(DICT_SIZE, LSTM_SIZE, EMBEDDING_DIM, NUM_LAYERS)\n",
    "opt = torch.optim.Adam(model.parameters(), lr=LR)\n",
    "criterion = nn.CrossEntropyLoss()"
   ]
  },
  {
   "cell_type": "code",
   "execution_count": 13,
   "metadata": {},
   "outputs": [],
   "source": [
    "def train(model, optimizer, inp, target, criterion, BATCH_SIZE, N_EPOCHS, DICT_SIZE):\n",
    "    history = []\n",
    "    \n",
    "    model.train()\n",
    "    \n",
    "    size_for_batch = int(len(inp) / BATCH_SIZE) - 1\n",
    "    \n",
    "    for epoch in range(N_EPOCHS):\n",
    "        \n",
    "        history.append(0)\n",
    "    \n",
    "        for i in range(size_for_batch):\n",
    "        \n",
    "            hidden = model.init_state(BATCH_SIZE)\n",
    "\n",
    "            batched_inp = torch.tensor(inp[i * BATCH_SIZE : (i + 1) * BATCH_SIZE], dtype=torch.long)\n",
    "            batched_trg = torch.tensor(target[i * BATCH_SIZE : (i + 1) * BATCH_SIZE], dtype=torch.long)\n",
    "\n",
    "            optimizer.zero_grad()\n",
    "\n",
    "            output, _ = model(batched_inp, hidden)\n",
    "\n",
    "            loss = criterion(output.contiguous().view(-1, DICT_SIZE),\n",
    "                             batched_trg.contiguous().view(-1))\n",
    "            \n",
    "            history[epoch] += loss\n",
    "            \n",
    "            loss.backward()\n",
    "            optimizer.step()\n",
    "        \n",
    "        history[epoch] /= size_for_batch\n",
    "        \n",
    "        if (epoch) % 10 == 0:\n",
    "            clear_output(True)\n",
    "            plt.plot(history,label='loss')\n",
    "            plt.legend()\n",
    "            plt.show()\n",
    "        \n",
    "    return history"
   ]
  },
  {
   "cell_type": "code",
   "execution_count": 14,
   "metadata": {},
   "outputs": [
    {
     "data": {
      "image/png": "[encoded data removed]",
      "text/plain": [
       "<Figure size 432x288 with 1 Axes>"
      ]
     },
     "metadata": {
      "needs_background": "light"
     },
     "output_type": "display_data"
    }
   ],
   "source": [
    "history = train(model, opt, inp, target, criterion, BATCH_SIZE, N_EPOCHS, DICT_SIZE)"
   ]
  },
  {
   "cell_type": "code",
   "execution_count": 15,
   "metadata": {},
   "outputs": [],
   "source": [
    "def generate_sample(model, phrase, unique_tokens, max_length=MAX_LENGTH, temperature=1.0):\n",
    "\n",
    "    phrase = phrase.lower()\n",
    "    \n",
    "    with torch.no_grad(): \n",
    "        phrase_text = nltk.word_tokenize(phrase)\n",
    "        tokenised_text = [np.where(unique_tokens == x)[0] for x in phrase_text]\n",
    "        x_sequence = [torch.tensor([tokenised_text[i]], dtype=torch.long) for i in range(len(tokenised_text))]\n",
    "        \n",
    "        hid_state = model.init_state(1)\n",
    "      \n",
    "        for i in range(len(tokenised_text)):\n",
    "            out, hid_state = model(x_sequence[i], hid_state)\n",
    "\n",
    "\n",
    "        for _ in range(max_length - len(tokenised_text)):\n",
    "            \n",
    "            out, hid_state = model(x_sequence[-1], hid_state)\n",
    "            \n",
    "            p_next = F.softmax(out / temperature, dim=-1).data.numpy()[0] \n",
    "  \n",
    "\n",
    "            next_ix = np.random.choice(len(unique_tokens), p=p_next.squeeze(0))\n",
    "        \n",
    "            next_ix = torch.tensor([next_ix], dtype=torch.long).unsqueeze(0)\n",
    "            x_sequence.append(next_ix)\n",
    "\n",
    "        \n",
    "    return ' '.join([unique_tokens[ix] for ix in x_sequence])"
   ]
  },
  {
   "cell_type": "code",
   "execution_count": 22,
   "metadata": {},
   "outputs": [
    {
     "name": "stdout",
     "output_type": "stream",
     "text": [
      "i love you me , of love thee are thou the no goest flesh , years not nothing are , speaking as i so as he , thou before to the praise ; my age to so woe ; \n",
      " and to set all thy great us , \n",
      " \n",
      " lxxiv \n",
      " is rud'st they my thoughts have drain 'd can , can have my . love excuse me than but by no blot his least upon thee , \n",
      " to me so your self mine is , to my true others with the times his for hand confounds in , my best , his love no sick doth to more bred , in for i should all his cold love . \n",
      " and \n",
      " if that my lines more in praise far . \n",
      " without from thy heart kind-hearted thy worth are rich old tyrant thy , my all\n"
     ]
    }
   ],
   "source": [
    "print(generate_sample(model, \"I love you\", unique_tokens, max_length=150, temperature=1.5))"
   ]
  },
  {
   "cell_type": "code",
   "execution_count": 24,
   "metadata": {},
   "outputs": [
    {
     "name": "stdout",
     "output_type": "stream",
     "text": [
      "the sweetest woman 's sail of all that i never am not be \n",
      " hath not so your truth . \n",
      " \n",
      " \n",
      " that as that do i all my deeds , the praise they in death to no a time that do not seem my love that to dost breathe , to this thy love that by nature , whose my true soul , you and in all , my thy good of life , \n",
      " and art of my love ; \n",
      " so is it is his death , \n",
      " in the \n",
      " and the place hindmost , , i \n",
      " it for that you is it with my most . love to your love to give me disgrace , \n",
      " \n",
      " the can i not , then i may not say to that i hold thy beauty for the i love , in my love of that\n"
     ]
    }
   ],
   "source": [
    "print(generate_sample(model, \"The sweetest woman\", unique_tokens, max_length=150, temperature=1.0))"
   ]
  },
  {
   "cell_type": "code",
   "execution_count": 27,
   "metadata": {},
   "outputs": [
    {
     "name": "stdout",
     "output_type": "stream",
     "text": [
      "the world is dark days , \n",
      " if that it is to show thee was not in this thy love strong , \n",
      " \n",
      " \n",
      " the for nothing the praise , \n",
      " \n",
      " of that in the true breath ? \n",
      " to no , i have i do be .\n"
     ]
    }
   ],
   "source": [
    "print(generate_sample(model, \"The world is dark\", unique_tokens, max_length=50, temperature=0.8))"
   ]
  },
  {
   "cell_type": "code",
   "execution_count": null,
   "metadata": {},
   "outputs": [],
   "source": []
  }
 ],
 "metadata": {
  "kernelspec": {
   "display_name": "Python 3",
   "language": "python",
   "name": "python3"
  },
  "language_info": {
   "codemirror_mode": {
    "name": "ipython",
    "version": 3
   },
   "file_extension": ".py",
   "mimetype": "text/x-python",
   "name": "python",
   "nbconvert_exporter": "python",
   "pygments_lexer": "ipython3",
   "version": "3.7.6"
  }
 },
 "nbformat": 4,
 "nbformat_minor": 4
}
